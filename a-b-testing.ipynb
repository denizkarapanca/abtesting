{
 "cells": [
  {
   "cell_type": "markdown",
   "id": "b9c96f7a",
   "metadata": {
    "papermill": {
     "duration": 0.008862,
     "end_time": "2022-11-28T13:03:09.499071",
     "exception": false,
     "start_time": "2022-11-28T13:03:09.490209",
     "status": "completed"
    },
    "tags": []
   },
   "source": [
    "# **A/B Testing İle Bidding Yöntemlerinin Karşılaştırılması**"
   ]
  },
  {
   "cell_type": "markdown",
   "id": "282050ba",
   "metadata": {
    "papermill": {
     "duration": 0.006635,
     "end_time": "2022-11-28T13:03:09.512594",
     "exception": false,
     "start_time": "2022-11-28T13:03:09.505959",
     "status": "completed"
    },
    "tags": []
   },
   "source": [
    "**Problem**\n",
    "\n",
    "Dünyaca ünlü bir şirket teklif verme türüne alternatif olarak yeni bir teklif türü tanıtmıştır. Bu yeni teklif türünün daha fazla dönüşüm getirip getirmediği test edilmek istenmektedir.\n",
    "\n",
    "Bu noktada A/B Testi uygulanacaktır. Başarı ölçütü Purchase'dir. İstatistiksel testler için Purchase metriğine odaklanılacaktır."
   ]
  },
  {
   "cell_type": "markdown",
   "id": "f2099bf2",
   "metadata": {
    "papermill": {
     "duration": 0.006467,
     "end_time": "2022-11-28T13:03:09.525865",
     "exception": false,
     "start_time": "2022-11-28T13:03:09.519398",
     "status": "completed"
    },
    "tags": []
   },
   "source": [
    "**Veri Setini Tanıyalım**\n",
    "\n",
    "\n",
    "Kontrol grubu ve Test grubu olmak üzere iki ayrı veri seti bulunmaktadır. Kontrol grubuna eski teklif türü, Test grubuna ise yeni teklif türü uygulanmıştır. Veri setinde ayrıca kullanıcıların gördükleri ve tıkladıkları reklam sayıları ve buradan gelen kazanç bilgileri yer almaktadır."
   ]
  },
  {
   "cell_type": "markdown",
   "id": "d2f3e9f2",
   "metadata": {
    "papermill": {
     "duration": 0.006382,
     "end_time": "2022-11-28T13:03:09.538932",
     "exception": false,
     "start_time": "2022-11-28T13:03:09.532550",
     "status": "completed"
    },
    "tags": []
   },
   "source": [
    "**Değişkenler**\n",
    "\n",
    "\n",
    "Impression: Reklam görüntüleme sayısı\n",
    "\n",
    "Click: Görüntülenen reklama tıklama sayısı\n",
    "\n",
    "Purchase: Tıklanan reklamlar sonrası satın alınan ürün sayısı\n",
    "\n",
    "Earning: Satın alınan ürünler sonrası elde edilen kazanç"
   ]
  },
  {
   "cell_type": "markdown",
   "id": "ff22bc2a",
   "metadata": {
    "papermill": {
     "duration": 0.006523,
     "end_time": "2022-11-28T13:03:09.552295",
     "exception": false,
     "start_time": "2022-11-28T13:03:09.545772",
     "status": "completed"
    },
    "tags": []
   },
   "source": [
    "**Veriyi Hazırlama**\n",
    "\n",
    "\n",
    "Gerekli olan kütüphaneler indirilir."
   ]
  },
  {
   "cell_type": "code",
   "execution_count": 1,
   "id": "c892642e",
   "metadata": {
    "execution": {
     "iopub.execute_input": "2022-11-28T13:03:09.567707Z",
     "iopub.status.busy": "2022-11-28T13:03:09.567127Z",
     "iopub.status.idle": "2022-11-28T13:03:10.025796Z",
     "shell.execute_reply": "2022-11-28T13:03:10.024830Z"
    },
    "papermill": {
     "duration": 0.46957,
     "end_time": "2022-11-28T13:03:10.028503",
     "exception": false,
     "start_time": "2022-11-28T13:03:09.558933",
     "status": "completed"
    },
    "tags": []
   },
   "outputs": [],
   "source": [
    "import pandas as pd\n",
    "df1=pd.read_excel(\"/kaggle/input/ab-testing-data/ab_testing.xlsx\", sheet_name = \"Control Group\")\n",
    "df2=pd.read_excel(\"/kaggle/input/ab-testing-data/ab_testing.xlsx\", sheet_name = \"Test Group\")"
   ]
  },
  {
   "cell_type": "code",
   "execution_count": 2,
   "id": "1ac8c2e6",
   "metadata": {
    "execution": {
     "iopub.execute_input": "2022-11-28T13:03:10.044044Z",
     "iopub.status.busy": "2022-11-28T13:03:10.043146Z",
     "iopub.status.idle": "2022-11-28T13:03:11.149751Z",
     "shell.execute_reply": "2022-11-28T13:03:11.148526Z"
    },
    "papermill": {
     "duration": 1.117521,
     "end_time": "2022-11-28T13:03:11.152839",
     "exception": false,
     "start_time": "2022-11-28T13:03:10.035318",
     "status": "completed"
    },
    "tags": []
   },
   "outputs": [],
   "source": [
    "import statsmodels.stats.api as sms\n",
    "from scipy.stats import ttest_1samp, shapiro, levene, ttest_ind, mannwhitneyu, \\\n",
    "    pearsonr, spearmanr, kendalltau, f_oneway, kruskal\n",
    "from statsmodels.stats.proportion import proportions_ztest"
   ]
  },
  {
   "cell_type": "code",
   "execution_count": 3,
   "id": "df794297",
   "metadata": {
    "execution": {
     "iopub.execute_input": "2022-11-28T13:03:11.169968Z",
     "iopub.status.busy": "2022-11-28T13:03:11.169562Z",
     "iopub.status.idle": "2022-11-28T13:03:11.193535Z",
     "shell.execute_reply": "2022-11-28T13:03:11.192096Z"
    },
    "papermill": {
     "duration": 0.035859,
     "end_time": "2022-11-28T13:03:11.195883",
     "exception": false,
     "start_time": "2022-11-28T13:03:11.160024",
     "status": "completed"
    },
    "tags": []
   },
   "outputs": [
    {
     "data": {
      "text/html": [
       "<div>\n",
       "<style scoped>\n",
       "    .dataframe tbody tr th:only-of-type {\n",
       "        vertical-align: middle;\n",
       "    }\n",
       "\n",
       "    .dataframe tbody tr th {\n",
       "        vertical-align: top;\n",
       "    }\n",
       "\n",
       "    .dataframe thead th {\n",
       "        text-align: right;\n",
       "    }\n",
       "</style>\n",
       "<table border=\"1\" class=\"dataframe\">\n",
       "  <thead>\n",
       "    <tr style=\"text-align: right;\">\n",
       "      <th></th>\n",
       "      <th>Impression</th>\n",
       "      <th>Click</th>\n",
       "      <th>Purchase</th>\n",
       "      <th>Earning</th>\n",
       "    </tr>\n",
       "  </thead>\n",
       "  <tbody>\n",
       "    <tr>\n",
       "      <th>0</th>\n",
       "      <td>82529.459271</td>\n",
       "      <td>6090.077317</td>\n",
       "      <td>665.211255</td>\n",
       "      <td>2311.277143</td>\n",
       "    </tr>\n",
       "    <tr>\n",
       "      <th>1</th>\n",
       "      <td>98050.451926</td>\n",
       "      <td>3382.861786</td>\n",
       "      <td>315.084895</td>\n",
       "      <td>1742.806855</td>\n",
       "    </tr>\n",
       "    <tr>\n",
       "      <th>2</th>\n",
       "      <td>82696.023549</td>\n",
       "      <td>4167.965750</td>\n",
       "      <td>458.083738</td>\n",
       "      <td>1797.827447</td>\n",
       "    </tr>\n",
       "    <tr>\n",
       "      <th>3</th>\n",
       "      <td>109914.400398</td>\n",
       "      <td>4910.882240</td>\n",
       "      <td>487.090773</td>\n",
       "      <td>1696.229178</td>\n",
       "    </tr>\n",
       "    <tr>\n",
       "      <th>4</th>\n",
       "      <td>108457.762630</td>\n",
       "      <td>5987.655811</td>\n",
       "      <td>441.034050</td>\n",
       "      <td>1543.720179</td>\n",
       "    </tr>\n",
       "  </tbody>\n",
       "</table>\n",
       "</div>"
      ],
      "text/plain": [
       "      Impression        Click    Purchase      Earning\n",
       "0   82529.459271  6090.077317  665.211255  2311.277143\n",
       "1   98050.451926  3382.861786  315.084895  1742.806855\n",
       "2   82696.023549  4167.965750  458.083738  1797.827447\n",
       "3  109914.400398  4910.882240  487.090773  1696.229178\n",
       "4  108457.762630  5987.655811  441.034050  1543.720179"
      ]
     },
     "execution_count": 3,
     "metadata": {},
     "output_type": "execute_result"
    }
   ],
   "source": [
    "#Kontrol Grubu Veri Seti\n",
    "\n",
    "df1.head()"
   ]
  },
  {
   "cell_type": "code",
   "execution_count": 4,
   "id": "8277924d",
   "metadata": {
    "execution": {
     "iopub.execute_input": "2022-11-28T13:03:11.212299Z",
     "iopub.status.busy": "2022-11-28T13:03:11.211015Z",
     "iopub.status.idle": "2022-11-28T13:03:11.224146Z",
     "shell.execute_reply": "2022-11-28T13:03:11.222976Z"
    },
    "papermill": {
     "duration": 0.023761,
     "end_time": "2022-11-28T13:03:11.226396",
     "exception": false,
     "start_time": "2022-11-28T13:03:11.202635",
     "status": "completed"
    },
    "tags": []
   },
   "outputs": [
    {
     "data": {
      "text/html": [
       "<div>\n",
       "<style scoped>\n",
       "    .dataframe tbody tr th:only-of-type {\n",
       "        vertical-align: middle;\n",
       "    }\n",
       "\n",
       "    .dataframe tbody tr th {\n",
       "        vertical-align: top;\n",
       "    }\n",
       "\n",
       "    .dataframe thead th {\n",
       "        text-align: right;\n",
       "    }\n",
       "</style>\n",
       "<table border=\"1\" class=\"dataframe\">\n",
       "  <thead>\n",
       "    <tr style=\"text-align: right;\">\n",
       "      <th></th>\n",
       "      <th>Impression</th>\n",
       "      <th>Click</th>\n",
       "      <th>Purchase</th>\n",
       "      <th>Earning</th>\n",
       "    </tr>\n",
       "  </thead>\n",
       "  <tbody>\n",
       "    <tr>\n",
       "      <th>0</th>\n",
       "      <td>120103.503796</td>\n",
       "      <td>3216.547958</td>\n",
       "      <td>702.160346</td>\n",
       "      <td>1939.611243</td>\n",
       "    </tr>\n",
       "    <tr>\n",
       "      <th>1</th>\n",
       "      <td>134775.943363</td>\n",
       "      <td>3635.082422</td>\n",
       "      <td>834.054286</td>\n",
       "      <td>2929.405820</td>\n",
       "    </tr>\n",
       "    <tr>\n",
       "      <th>2</th>\n",
       "      <td>107806.620788</td>\n",
       "      <td>3057.143560</td>\n",
       "      <td>422.934258</td>\n",
       "      <td>2526.244877</td>\n",
       "    </tr>\n",
       "    <tr>\n",
       "      <th>3</th>\n",
       "      <td>116445.275526</td>\n",
       "      <td>4650.473911</td>\n",
       "      <td>429.033535</td>\n",
       "      <td>2281.428574</td>\n",
       "    </tr>\n",
       "    <tr>\n",
       "      <th>4</th>\n",
       "      <td>145082.516838</td>\n",
       "      <td>5201.387724</td>\n",
       "      <td>749.860442</td>\n",
       "      <td>2781.697521</td>\n",
       "    </tr>\n",
       "  </tbody>\n",
       "</table>\n",
       "</div>"
      ],
      "text/plain": [
       "      Impression        Click    Purchase      Earning\n",
       "0  120103.503796  3216.547958  702.160346  1939.611243\n",
       "1  134775.943363  3635.082422  834.054286  2929.405820\n",
       "2  107806.620788  3057.143560  422.934258  2526.244877\n",
       "3  116445.275526  4650.473911  429.033535  2281.428574\n",
       "4  145082.516838  5201.387724  749.860442  2781.697521"
      ]
     },
     "execution_count": 4,
     "metadata": {},
     "output_type": "execute_result"
    }
   ],
   "source": [
    "#Test Grubu Veri Seti\n",
    "\n",
    "df2.head()"
   ]
  },
  {
   "cell_type": "markdown",
   "id": "229c3337",
   "metadata": {
    "papermill": {
     "duration": 0.007152,
     "end_time": "2022-11-28T13:03:11.241048",
     "exception": false,
     "start_time": "2022-11-28T13:03:11.233896",
     "status": "completed"
    },
    "tags": []
   },
   "source": [
    "**Kontrol ve Test Gruplarının Analizi**"
   ]
  },
  {
   "cell_type": "code",
   "execution_count": 5,
   "id": "fa17879c",
   "metadata": {
    "execution": {
     "iopub.execute_input": "2022-11-28T13:03:11.258199Z",
     "iopub.status.busy": "2022-11-28T13:03:11.257766Z",
     "iopub.status.idle": "2022-11-28T13:03:11.266538Z",
     "shell.execute_reply": "2022-11-28T13:03:11.265274Z"
    },
    "papermill": {
     "duration": 0.020213,
     "end_time": "2022-11-28T13:03:11.268840",
     "exception": false,
     "start_time": "2022-11-28T13:03:11.248627",
     "status": "completed"
    },
    "tags": []
   },
   "outputs": [],
   "source": [
    "def check_df(dataframe, head=5):\n",
    "    print(\"##################### Shape #####################\")\n",
    "    print(dataframe.shape)\n",
    "    print(\"##################### Types #####################\")\n",
    "    print(dataframe.dtypes)\n",
    "    print(\"##################### Head #####################\")\n",
    "    print(dataframe.head())\n",
    "    print(\"##################### Tail #####################\")\n",
    "    print(dataframe.tail())\n",
    "    print(\"##################### NA #####################\")\n",
    "    print(dataframe.isnull().sum())\n",
    "    print(\"##################### Descriptive Statistics #####################\")\n",
    "    print(dataframe.describe().T)\n",
    "    print(\"##################### Quantiles #####################\")\n",
    "    print(dataframe.quantile([0, 0.25, 0.50, 0.75, 0.95, 0.99, 1]).T)"
   ]
  },
  {
   "cell_type": "code",
   "execution_count": 6,
   "id": "a3294d4c",
   "metadata": {
    "execution": {
     "iopub.execute_input": "2022-11-28T13:03:11.285263Z",
     "iopub.status.busy": "2022-11-28T13:03:11.284724Z",
     "iopub.status.idle": "2022-11-28T13:03:11.333807Z",
     "shell.execute_reply": "2022-11-28T13:03:11.332406Z"
    },
    "papermill": {
     "duration": 0.060175,
     "end_time": "2022-11-28T13:03:11.336222",
     "exception": false,
     "start_time": "2022-11-28T13:03:11.276047",
     "status": "completed"
    },
    "tags": []
   },
   "outputs": [
    {
     "name": "stdout",
     "output_type": "stream",
     "text": [
      "##################### Shape #####################\n",
      "(40, 4)\n",
      "##################### Types #####################\n",
      "Impression    float64\n",
      "Click         float64\n",
      "Purchase      float64\n",
      "Earning       float64\n",
      "dtype: object\n",
      "##################### Head #####################\n",
      "      Impression        Click    Purchase      Earning\n",
      "0   82529.459271  6090.077317  665.211255  2311.277143\n",
      "1   98050.451926  3382.861786  315.084895  1742.806855\n",
      "2   82696.023549  4167.965750  458.083738  1797.827447\n",
      "3  109914.400398  4910.882240  487.090773  1696.229178\n",
      "4  108457.762630  5987.655811  441.034050  1543.720179\n",
      "##################### Tail #####################\n",
      "       Impression        Click    Purchase      Earning\n",
      "35  132064.219003  3747.157544  551.072406  2256.975589\n",
      "36   86409.941796  4608.256205  345.046033  1781.357690\n",
      "37  123678.934234  3649.073787  476.168128  2187.721217\n",
      "38  101997.494099  4736.353369  474.613537  2254.563834\n",
      "39  121085.881220  4285.178608  590.406020  1289.308948\n",
      "##################### NA #####################\n",
      "Impression    0\n",
      "Click         0\n",
      "Purchase      0\n",
      "Earning       0\n",
      "dtype: int64\n",
      "##################### Descriptive Statistics #####################\n",
      "            count           mean           std           min           25%  \\\n",
      "Impression   40.0  101711.449068  20302.157862  45475.942965  85726.690349   \n",
      "Click        40.0    5100.657373   1329.985498   2189.753157   4124.304129   \n",
      "Purchase     40.0     550.894059    134.108201    267.028943    470.095533   \n",
      "Earning      40.0    1908.568300    302.917783   1253.989525   1685.847205   \n",
      "\n",
      "                     50%            75%            max  \n",
      "Impression  99790.701078  115212.816543  147539.336329  \n",
      "Click        5001.220602    5923.803596    7959.125069  \n",
      "Purchase      531.206307     637.957088     801.795020  \n",
      "Earning      1975.160522    2119.802784    2497.295218  \n",
      "##################### Quantiles #####################\n",
      "                    0.00          0.25          0.50           0.75  \\\n",
      "Impression  45475.942965  85726.690349  99790.701078  115212.816543   \n",
      "Click        2189.753157   4124.304129   5001.220602    5923.803596   \n",
      "Purchase      267.028943    470.095533    531.206307     637.957088   \n",
      "Earning      1253.989525   1685.847205   1975.160522    2119.802784   \n",
      "\n",
      "                     0.95           0.99           1.00  \n",
      "Impression  132950.532455  143105.791105  147539.336329  \n",
      "Click         7374.361202    7761.795112    7959.125069  \n",
      "Purchase       748.270761     790.187785     801.795020  \n",
      "Earning       2318.528498    2481.308737    2497.295218  \n"
     ]
    }
   ],
   "source": [
    "#Kontrol Grubu Analizi\n",
    "\n",
    "check_df(df1)"
   ]
  },
  {
   "cell_type": "code",
   "execution_count": 7,
   "id": "a3d8e974",
   "metadata": {
    "execution": {
     "iopub.execute_input": "2022-11-28T13:03:11.353055Z",
     "iopub.status.busy": "2022-11-28T13:03:11.352653Z",
     "iopub.status.idle": "2022-11-28T13:03:11.387516Z",
     "shell.execute_reply": "2022-11-28T13:03:11.385008Z"
    },
    "papermill": {
     "duration": 0.04624,
     "end_time": "2022-11-28T13:03:11.390078",
     "exception": false,
     "start_time": "2022-11-28T13:03:11.343838",
     "status": "completed"
    },
    "tags": []
   },
   "outputs": [
    {
     "name": "stdout",
     "output_type": "stream",
     "text": [
      "##################### Shape #####################\n",
      "(40, 4)\n",
      "##################### Types #####################\n",
      "Impression    float64\n",
      "Click         float64\n",
      "Purchase      float64\n",
      "Earning       float64\n",
      "dtype: object\n",
      "##################### Head #####################\n",
      "      Impression        Click    Purchase      Earning\n",
      "0  120103.503796  3216.547958  702.160346  1939.611243\n",
      "1  134775.943363  3635.082422  834.054286  2929.405820\n",
      "2  107806.620788  3057.143560  422.934258  2526.244877\n",
      "3  116445.275526  4650.473911  429.033535  2281.428574\n",
      "4  145082.516838  5201.387724  749.860442  2781.697521\n",
      "##################### Tail #####################\n",
      "       Impression        Click    Purchase      Earning\n",
      "35   79234.911929  6002.213585  382.047116  2277.863984\n",
      "36  130702.239410  3626.320072  449.824592  2530.841327\n",
      "37  116481.873365  4702.782468  472.453725  2597.917632\n",
      "38   79033.834921  4495.428177  425.359102  2595.857880\n",
      "39  102257.454089  4800.068321  521.310729  2967.518390\n",
      "##################### NA #####################\n",
      "Impression    0\n",
      "Click         0\n",
      "Purchase      0\n",
      "Earning       0\n",
      "dtype: int64\n",
      "##################### Descriptive Statistics #####################\n",
      "            count           mean           std           min            25%  \\\n",
      "Impression   40.0  120512.411758  18807.448712  79033.834921  112691.970770   \n",
      "Click        40.0    3967.549761    923.095073   1836.629861    3376.819024   \n",
      "Purchase     40.0     582.106097    161.152513    311.629515     444.626828   \n",
      "Earning      40.0    2514.890733    282.730852   1939.611243    2280.537426   \n",
      "\n",
      "                      50%            75%            max  \n",
      "Impression  119291.300775  132050.578933  158605.920483  \n",
      "Click         3931.359804    4660.497911    6019.695079  \n",
      "Purchase       551.355732     699.862360     889.910460  \n",
      "Earning       2544.666107    2761.545405    3171.489708  \n",
      "##################### Quantiles #####################\n",
      "                    0.00           0.25           0.50           0.75  \\\n",
      "Impression  79033.834921  112691.970770  119291.300775  132050.578933   \n",
      "Click        1836.629861    3376.819024    3931.359804    4660.497911   \n",
      "Purchase      311.629515     444.626828     551.355732     699.862360   \n",
      "Earning      1939.611243    2280.537426    2544.666107    2761.545405   \n",
      "\n",
      "                     0.95           0.99           1.00  \n",
      "Impression  153178.691063  158245.263797  158605.920483  \n",
      "Click         5271.186906    6012.877296    6019.695079  \n",
      "Purchase       854.208945     876.576104     889.910460  \n",
      "Earning       2931.311449    3091.940894    3171.489708  \n"
     ]
    }
   ],
   "source": [
    "#Test Grubu Analizi\n",
    "\n",
    "check_df(df2)"
   ]
  },
  {
   "cell_type": "markdown",
   "id": "9949d8d5",
   "metadata": {
    "papermill": {
     "duration": 0.006857,
     "end_time": "2022-11-28T13:03:11.404155",
     "exception": false,
     "start_time": "2022-11-28T13:03:11.397298",
     "status": "completed"
    },
    "tags": []
   },
   "source": [
    "**Kontrol ve Test Grubunun Verilerini Tek Bir Dataframe'de Birleştirme**\n",
    "\n",
    "Birleştirme işlemi yapmadan önce kontrol ve test gruplarının değişken isimlerini düzenleyelim."
   ]
  },
  {
   "cell_type": "code",
   "execution_count": 8,
   "id": "e572c09c",
   "metadata": {
    "execution": {
     "iopub.execute_input": "2022-11-28T13:03:11.420211Z",
     "iopub.status.busy": "2022-11-28T13:03:11.419800Z",
     "iopub.status.idle": "2022-11-28T13:03:11.426207Z",
     "shell.execute_reply": "2022-11-28T13:03:11.424999Z"
    },
    "papermill": {
     "duration": 0.017799,
     "end_time": "2022-11-28T13:03:11.429049",
     "exception": false,
     "start_time": "2022-11-28T13:03:11.411250",
     "status": "completed"
    },
    "tags": []
   },
   "outputs": [],
   "source": [
    "#Kontrol grubu için\n",
    "df1.columns = [\"Control_\" + col for col in df1.columns]\n",
    "#Test grubu için\n",
    "df2.columns = [\"Test_\" + col for col in df2.columns]"
   ]
  },
  {
   "cell_type": "code",
   "execution_count": 9,
   "id": "d3d66b85",
   "metadata": {
    "execution": {
     "iopub.execute_input": "2022-11-28T13:03:11.445650Z",
     "iopub.status.busy": "2022-11-28T13:03:11.445210Z",
     "iopub.status.idle": "2022-11-28T13:03:11.457211Z",
     "shell.execute_reply": "2022-11-28T13:03:11.456262Z"
    },
    "papermill": {
     "duration": 0.022629,
     "end_time": "2022-11-28T13:03:11.459373",
     "exception": false,
     "start_time": "2022-11-28T13:03:11.436744",
     "status": "completed"
    },
    "tags": []
   },
   "outputs": [
    {
     "data": {
      "text/html": [
       "<div>\n",
       "<style scoped>\n",
       "    .dataframe tbody tr th:only-of-type {\n",
       "        vertical-align: middle;\n",
       "    }\n",
       "\n",
       "    .dataframe tbody tr th {\n",
       "        vertical-align: top;\n",
       "    }\n",
       "\n",
       "    .dataframe thead th {\n",
       "        text-align: right;\n",
       "    }\n",
       "</style>\n",
       "<table border=\"1\" class=\"dataframe\">\n",
       "  <thead>\n",
       "    <tr style=\"text-align: right;\">\n",
       "      <th></th>\n",
       "      <th>Control_Impression</th>\n",
       "      <th>Control_Click</th>\n",
       "      <th>Control_Purchase</th>\n",
       "      <th>Control_Earning</th>\n",
       "    </tr>\n",
       "  </thead>\n",
       "  <tbody>\n",
       "    <tr>\n",
       "      <th>0</th>\n",
       "      <td>82529.459271</td>\n",
       "      <td>6090.077317</td>\n",
       "      <td>665.211255</td>\n",
       "      <td>2311.277143</td>\n",
       "    </tr>\n",
       "    <tr>\n",
       "      <th>1</th>\n",
       "      <td>98050.451926</td>\n",
       "      <td>3382.861786</td>\n",
       "      <td>315.084895</td>\n",
       "      <td>1742.806855</td>\n",
       "    </tr>\n",
       "    <tr>\n",
       "      <th>2</th>\n",
       "      <td>82696.023549</td>\n",
       "      <td>4167.965750</td>\n",
       "      <td>458.083738</td>\n",
       "      <td>1797.827447</td>\n",
       "    </tr>\n",
       "    <tr>\n",
       "      <th>3</th>\n",
       "      <td>109914.400398</td>\n",
       "      <td>4910.882240</td>\n",
       "      <td>487.090773</td>\n",
       "      <td>1696.229178</td>\n",
       "    </tr>\n",
       "    <tr>\n",
       "      <th>4</th>\n",
       "      <td>108457.762630</td>\n",
       "      <td>5987.655811</td>\n",
       "      <td>441.034050</td>\n",
       "      <td>1543.720179</td>\n",
       "    </tr>\n",
       "  </tbody>\n",
       "</table>\n",
       "</div>"
      ],
      "text/plain": [
       "   Control_Impression  Control_Click  Control_Purchase  Control_Earning\n",
       "0        82529.459271    6090.077317        665.211255      2311.277143\n",
       "1        98050.451926    3382.861786        315.084895      1742.806855\n",
       "2        82696.023549    4167.965750        458.083738      1797.827447\n",
       "3       109914.400398    4910.882240        487.090773      1696.229178\n",
       "4       108457.762630    5987.655811        441.034050      1543.720179"
      ]
     },
     "execution_count": 9,
     "metadata": {},
     "output_type": "execute_result"
    }
   ],
   "source": [
    "df1.head()"
   ]
  },
  {
   "cell_type": "code",
   "execution_count": 10,
   "id": "ddc4aab9",
   "metadata": {
    "execution": {
     "iopub.execute_input": "2022-11-28T13:03:11.476702Z",
     "iopub.status.busy": "2022-11-28T13:03:11.476208Z",
     "iopub.status.idle": "2022-11-28T13:03:11.488843Z",
     "shell.execute_reply": "2022-11-28T13:03:11.487765Z"
    },
    "papermill": {
     "duration": 0.023897,
     "end_time": "2022-11-28T13:03:11.490982",
     "exception": false,
     "start_time": "2022-11-28T13:03:11.467085",
     "status": "completed"
    },
    "tags": []
   },
   "outputs": [
    {
     "data": {
      "text/html": [
       "<div>\n",
       "<style scoped>\n",
       "    .dataframe tbody tr th:only-of-type {\n",
       "        vertical-align: middle;\n",
       "    }\n",
       "\n",
       "    .dataframe tbody tr th {\n",
       "        vertical-align: top;\n",
       "    }\n",
       "\n",
       "    .dataframe thead th {\n",
       "        text-align: right;\n",
       "    }\n",
       "</style>\n",
       "<table border=\"1\" class=\"dataframe\">\n",
       "  <thead>\n",
       "    <tr style=\"text-align: right;\">\n",
       "      <th></th>\n",
       "      <th>Test_Impression</th>\n",
       "      <th>Test_Click</th>\n",
       "      <th>Test_Purchase</th>\n",
       "      <th>Test_Earning</th>\n",
       "    </tr>\n",
       "  </thead>\n",
       "  <tbody>\n",
       "    <tr>\n",
       "      <th>0</th>\n",
       "      <td>120103.503796</td>\n",
       "      <td>3216.547958</td>\n",
       "      <td>702.160346</td>\n",
       "      <td>1939.611243</td>\n",
       "    </tr>\n",
       "    <tr>\n",
       "      <th>1</th>\n",
       "      <td>134775.943363</td>\n",
       "      <td>3635.082422</td>\n",
       "      <td>834.054286</td>\n",
       "      <td>2929.405820</td>\n",
       "    </tr>\n",
       "    <tr>\n",
       "      <th>2</th>\n",
       "      <td>107806.620788</td>\n",
       "      <td>3057.143560</td>\n",
       "      <td>422.934258</td>\n",
       "      <td>2526.244877</td>\n",
       "    </tr>\n",
       "    <tr>\n",
       "      <th>3</th>\n",
       "      <td>116445.275526</td>\n",
       "      <td>4650.473911</td>\n",
       "      <td>429.033535</td>\n",
       "      <td>2281.428574</td>\n",
       "    </tr>\n",
       "    <tr>\n",
       "      <th>4</th>\n",
       "      <td>145082.516838</td>\n",
       "      <td>5201.387724</td>\n",
       "      <td>749.860442</td>\n",
       "      <td>2781.697521</td>\n",
       "    </tr>\n",
       "  </tbody>\n",
       "</table>\n",
       "</div>"
      ],
      "text/plain": [
       "   Test_Impression   Test_Click  Test_Purchase  Test_Earning\n",
       "0    120103.503796  3216.547958     702.160346   1939.611243\n",
       "1    134775.943363  3635.082422     834.054286   2929.405820\n",
       "2    107806.620788  3057.143560     422.934258   2526.244877\n",
       "3    116445.275526  4650.473911     429.033535   2281.428574\n",
       "4    145082.516838  5201.387724     749.860442   2781.697521"
      ]
     },
     "execution_count": 10,
     "metadata": {},
     "output_type": "execute_result"
    }
   ],
   "source": [
    "df2.head()"
   ]
  },
  {
   "cell_type": "code",
   "execution_count": 11,
   "id": "47b684d6",
   "metadata": {
    "execution": {
     "iopub.execute_input": "2022-11-28T13:03:11.508055Z",
     "iopub.status.busy": "2022-11-28T13:03:11.507581Z",
     "iopub.status.idle": "2022-11-28T13:03:11.525282Z",
     "shell.execute_reply": "2022-11-28T13:03:11.524123Z"
    },
    "papermill": {
     "duration": 0.029108,
     "end_time": "2022-11-28T13:03:11.527676",
     "exception": false,
     "start_time": "2022-11-28T13:03:11.498568",
     "status": "completed"
    },
    "tags": []
   },
   "outputs": [
    {
     "data": {
      "text/html": [
       "<div>\n",
       "<style scoped>\n",
       "    .dataframe tbody tr th:only-of-type {\n",
       "        vertical-align: middle;\n",
       "    }\n",
       "\n",
       "    .dataframe tbody tr th {\n",
       "        vertical-align: top;\n",
       "    }\n",
       "\n",
       "    .dataframe thead th {\n",
       "        text-align: right;\n",
       "    }\n",
       "</style>\n",
       "<table border=\"1\" class=\"dataframe\">\n",
       "  <thead>\n",
       "    <tr style=\"text-align: right;\">\n",
       "      <th></th>\n",
       "      <th>Control_Impression</th>\n",
       "      <th>Control_Click</th>\n",
       "      <th>Control_Purchase</th>\n",
       "      <th>Control_Earning</th>\n",
       "      <th>Test_Impression</th>\n",
       "      <th>Test_Click</th>\n",
       "      <th>Test_Purchase</th>\n",
       "      <th>Test_Earning</th>\n",
       "    </tr>\n",
       "  </thead>\n",
       "  <tbody>\n",
       "    <tr>\n",
       "      <th>0</th>\n",
       "      <td>82529.459271</td>\n",
       "      <td>6090.077317</td>\n",
       "      <td>665.211255</td>\n",
       "      <td>2311.277143</td>\n",
       "      <td>120103.503796</td>\n",
       "      <td>3216.547958</td>\n",
       "      <td>702.160346</td>\n",
       "      <td>1939.611243</td>\n",
       "    </tr>\n",
       "    <tr>\n",
       "      <th>1</th>\n",
       "      <td>98050.451926</td>\n",
       "      <td>3382.861786</td>\n",
       "      <td>315.084895</td>\n",
       "      <td>1742.806855</td>\n",
       "      <td>134775.943363</td>\n",
       "      <td>3635.082422</td>\n",
       "      <td>834.054286</td>\n",
       "      <td>2929.405820</td>\n",
       "    </tr>\n",
       "    <tr>\n",
       "      <th>2</th>\n",
       "      <td>82696.023549</td>\n",
       "      <td>4167.965750</td>\n",
       "      <td>458.083738</td>\n",
       "      <td>1797.827447</td>\n",
       "      <td>107806.620788</td>\n",
       "      <td>3057.143560</td>\n",
       "      <td>422.934258</td>\n",
       "      <td>2526.244877</td>\n",
       "    </tr>\n",
       "    <tr>\n",
       "      <th>3</th>\n",
       "      <td>109914.400398</td>\n",
       "      <td>4910.882240</td>\n",
       "      <td>487.090773</td>\n",
       "      <td>1696.229178</td>\n",
       "      <td>116445.275526</td>\n",
       "      <td>4650.473911</td>\n",
       "      <td>429.033535</td>\n",
       "      <td>2281.428574</td>\n",
       "    </tr>\n",
       "    <tr>\n",
       "      <th>4</th>\n",
       "      <td>108457.762630</td>\n",
       "      <td>5987.655811</td>\n",
       "      <td>441.034050</td>\n",
       "      <td>1543.720179</td>\n",
       "      <td>145082.516838</td>\n",
       "      <td>5201.387724</td>\n",
       "      <td>749.860442</td>\n",
       "      <td>2781.697521</td>\n",
       "    </tr>\n",
       "  </tbody>\n",
       "</table>\n",
       "</div>"
      ],
      "text/plain": [
       "   Control_Impression  Control_Click  Control_Purchase  Control_Earning  \\\n",
       "0        82529.459271    6090.077317        665.211255      2311.277143   \n",
       "1        98050.451926    3382.861786        315.084895      1742.806855   \n",
       "2        82696.023549    4167.965750        458.083738      1797.827447   \n",
       "3       109914.400398    4910.882240        487.090773      1696.229178   \n",
       "4       108457.762630    5987.655811        441.034050      1543.720179   \n",
       "\n",
       "   Test_Impression   Test_Click  Test_Purchase  Test_Earning  \n",
       "0    120103.503796  3216.547958     702.160346   1939.611243  \n",
       "1    134775.943363  3635.082422     834.054286   2929.405820  \n",
       "2    107806.620788  3057.143560     422.934258   2526.244877  \n",
       "3    116445.275526  4650.473911     429.033535   2281.428574  \n",
       "4    145082.516838  5201.387724     749.860442   2781.697521  "
      ]
     },
     "execution_count": 11,
     "metadata": {},
     "output_type": "execute_result"
    }
   ],
   "source": [
    "#İki dataframe'i tek bir dataframe'de birleştirme\n",
    "\n",
    "df= pd.concat([df1,df2], axis=1)\n",
    "df.head()"
   ]
  },
  {
   "cell_type": "markdown",
   "id": "b2c3385e",
   "metadata": {
    "papermill": {
     "duration": 0.00756,
     "end_time": "2022-11-28T13:03:11.543221",
     "exception": false,
     "start_time": "2022-11-28T13:03:11.535661",
     "status": "completed"
    },
    "tags": []
   },
   "source": [
    "# **A/B Testinin Yapılması**\n",
    "\n",
    "> **Hipotezlerin Tanımlanması**\n",
    "\n",
    "H0: M1 = M2 (Eski teklif türü uygulandığındaki satın alma ortalamaları ile\n",
    "yeni teklif türü uygulandığındaki satın alma ortalamaları arasında istatistiki\n",
    "olarak anlamlı fark yoktur.)\n",
    "\n",
    "H1: M1!=M2 (Eski teklif türü uygulandığındaki satın alma ortalamaları ile\n",
    "yeni teklif türü uygulandığındaki satın alma ortalamaları arasında istatistiki\n",
    "olarak anlamlı fark vardır.)\n"
   ]
  },
  {
   "cell_type": "markdown",
   "id": "41dc9084",
   "metadata": {
    "papermill": {
     "duration": 0.007603,
     "end_time": "2022-11-28T13:03:11.558680",
     "exception": false,
     "start_time": "2022-11-28T13:03:11.551077",
     "status": "completed"
    },
    "tags": []
   },
   "source": [
    "Hipotez testi yapılmadan önce varsayım kontrolleri yapılır. Bu varsayımlar normallik ve varyans homojenliğidir. p value değerleri değerlendirilir.\n",
    "\n",
    "> **Varsayım Kontrolleri**\n",
    "\n"
   ]
  },
  {
   "cell_type": "code",
   "execution_count": 12,
   "id": "7e7a26dc",
   "metadata": {
    "execution": {
     "iopub.execute_input": "2022-11-28T13:03:11.576898Z",
     "iopub.status.busy": "2022-11-28T13:03:11.576455Z",
     "iopub.status.idle": "2022-11-28T13:03:11.584121Z",
     "shell.execute_reply": "2022-11-28T13:03:11.582611Z"
    },
    "papermill": {
     "duration": 0.019643,
     "end_time": "2022-11-28T13:03:11.586374",
     "exception": false,
     "start_time": "2022-11-28T13:03:11.566731",
     "status": "completed"
    },
    "tags": []
   },
   "outputs": [
    {
     "name": "stdout",
     "output_type": "stream",
     "text": [
      "Test Stat = 0.9773, p-value = 0.5891\n"
     ]
    }
   ],
   "source": [
    "#NORMALLİK VARSAYIMI-KONTROL GRUBU:\n",
    "#H0: Normal dağılım varsayımı sağlanmaktadır.\n",
    "#H1: Normal dağılım varsayımı sağlanmamaktadır.\n",
    "\n",
    "test_stat, pvalue= shapiro(df[\"Control_Purchase\"])\n",
    "print(\"Test Stat = %.4f, p-value = %.4f\" % (test_stat, pvalue))\n"
   ]
  },
  {
   "cell_type": "markdown",
   "id": "55861dc8",
   "metadata": {
    "papermill": {
     "duration": 0.007751,
     "end_time": "2022-11-28T13:03:11.602675",
     "exception": false,
     "start_time": "2022-11-28T13:03:11.594924",
     "status": "completed"
    },
    "tags": []
   },
   "source": [
    "**Yorum:** H0 red edilemez. 0.05'ten büyüktür. Control_Purchase normal dağılıyor."
   ]
  },
  {
   "cell_type": "code",
   "execution_count": 13,
   "id": "bec58396",
   "metadata": {
    "execution": {
     "iopub.execute_input": "2022-11-28T13:03:11.621066Z",
     "iopub.status.busy": "2022-11-28T13:03:11.619958Z",
     "iopub.status.idle": "2022-11-28T13:03:11.627813Z",
     "shell.execute_reply": "2022-11-28T13:03:11.625975Z"
    },
    "papermill": {
     "duration": 0.019476,
     "end_time": "2022-11-28T13:03:11.630081",
     "exception": false,
     "start_time": "2022-11-28T13:03:11.610605",
     "status": "completed"
    },
    "tags": []
   },
   "outputs": [
    {
     "name": "stdout",
     "output_type": "stream",
     "text": [
      "Test Stat = 0.9589, p-value = 0.1541\n"
     ]
    }
   ],
   "source": [
    "#NORMALLİK VARSAYIMI-TEST GRUBU:\n",
    "#H0: Normal dağılım varsayımı sağlanmaktadır.\n",
    "#H1: Normal dağılım varsayımı sağlanmamaktadır.\n",
    "\n",
    "test_stat, pvalue= shapiro(df[\"Test_Purchase\"])\n",
    "print(\"Test Stat = %.4f, p-value = %.4f\" % (test_stat, pvalue))"
   ]
  },
  {
   "cell_type": "markdown",
   "id": "964075e8",
   "metadata": {
    "papermill": {
     "duration": 0.007793,
     "end_time": "2022-11-28T13:03:11.645979",
     "exception": false,
     "start_time": "2022-11-28T13:03:11.638186",
     "status": "completed"
    },
    "tags": []
   },
   "source": [
    "**Yorum:** H0 red edilemez. 0.05'ten büyüktür. Test_Purchase normal dağılıyor."
   ]
  },
  {
   "cell_type": "code",
   "execution_count": 14,
   "id": "3ef4cb7c",
   "metadata": {
    "execution": {
     "iopub.execute_input": "2022-11-28T13:03:11.664543Z",
     "iopub.status.busy": "2022-11-28T13:03:11.663920Z",
     "iopub.status.idle": "2022-11-28T13:03:11.671911Z",
     "shell.execute_reply": "2022-11-28T13:03:11.670665Z"
    },
    "papermill": {
     "duration": 0.020288,
     "end_time": "2022-11-28T13:03:11.674425",
     "exception": false,
     "start_time": "2022-11-28T13:03:11.654137",
     "status": "completed"
    },
    "tags": []
   },
   "outputs": [
    {
     "name": "stdout",
     "output_type": "stream",
     "text": [
      "Test Stat = 2.6393, p-value= 0.1083\n"
     ]
    }
   ],
   "source": [
    "#VARYANS HOMOJENLİĞİ\n",
    "#H0: Varyanslar homojendir.\n",
    "#H1: Varyanslar homojen değildir.\n",
    "\n",
    "test_stat, pvalue=levene(df[\"Control_Purchase\"],df[\"Test_Purchase\"])\n",
    "print(\"Test Stat = %.4f, p-value= %.4f\" % (test_stat, pvalue))"
   ]
  },
  {
   "cell_type": "markdown",
   "id": "e43c963f",
   "metadata": {
    "papermill": {
     "duration": 0.008102,
     "end_time": "2022-11-28T13:03:11.690771",
     "exception": false,
     "start_time": "2022-11-28T13:03:11.682669",
     "status": "completed"
    },
    "tags": []
   },
   "source": [
    "**Yorum:** H0 red edilemez. p-value değeri 0.05'ten büyüktür. Varyanslar homojen dağılmaktadır.\n"
   ]
  },
  {
   "cell_type": "markdown",
   "id": "c9e898fb",
   "metadata": {
    "papermill": {
     "duration": 0.007919,
     "end_time": "2022-11-28T13:03:11.706862",
     "exception": false,
     "start_time": "2022-11-28T13:03:11.698943",
     "status": "completed"
    },
    "tags": []
   },
   "source": [
    "Varsayımlar sağlandığı için paremetrik test uygulanır. Uygulanacak olan test **Bağımsız İki Örneklem t testidir**. p value değerleri değerlendirilir."
   ]
  },
  {
   "cell_type": "markdown",
   "id": "8b7b02d7",
   "metadata": {
    "papermill": {
     "duration": 0.008027,
     "end_time": "2022-11-28T13:03:11.723079",
     "exception": false,
     "start_time": "2022-11-28T13:03:11.715052",
     "status": "completed"
    },
    "tags": []
   },
   "source": [
    "Daha öncesinde bu test için hipotezlerimizi yazmıştık ve varsayımlarımızı kontrol etmiştik. Şimdi testimizi yapalım."
   ]
  },
  {
   "cell_type": "code",
   "execution_count": 15,
   "id": "0b75c793",
   "metadata": {
    "execution": {
     "iopub.execute_input": "2022-11-28T13:03:11.742515Z",
     "iopub.status.busy": "2022-11-28T13:03:11.742117Z",
     "iopub.status.idle": "2022-11-28T13:03:11.748763Z",
     "shell.execute_reply": "2022-11-28T13:03:11.747544Z"
    },
    "papermill": {
     "duration": 0.019397,
     "end_time": "2022-11-28T13:03:11.751533",
     "exception": false,
     "start_time": "2022-11-28T13:03:11.732136",
     "status": "completed"
    },
    "tags": []
   },
   "outputs": [
    {
     "name": "stdout",
     "output_type": "stream",
     "text": [
      "Test Stat = -0.9416, p-value = 0.3493\n"
     ]
    }
   ],
   "source": [
    "test_stat, pvalue = ttest_ind(df[\"Control_Purchase\"], df[\"Test_Purchase\"], equal_var=True)\n",
    "print(\"Test Stat = %.4f, p-value = %.4f\" % (test_stat, pvalue))"
   ]
  },
  {
   "cell_type": "markdown",
   "id": "343be10b",
   "metadata": {
    "papermill": {
     "duration": 0.007995,
     "end_time": "2022-11-28T13:03:11.768065",
     "exception": false,
     "start_time": "2022-11-28T13:03:11.760070",
     "status": "completed"
    },
    "tags": []
   },
   "source": [
    "**Yorum:** H0 red edilemez. p value değeri 0.05'ten büyüktür. Kontrol ve test grubunun satın alma ortalamaları arasında istatistiki olarak anlamlı bir fark yoktur."
   ]
  }
 ],
 "metadata": {
  "kernelspec": {
   "display_name": "Python 3",
   "language": "python",
   "name": "python3"
  },
  "language_info": {
   "codemirror_mode": {
    "name": "ipython",
    "version": 3
   },
   "file_extension": ".py",
   "mimetype": "text/x-python",
   "name": "python",
   "nbconvert_exporter": "python",
   "pygments_lexer": "ipython3",
   "version": "3.7.12"
  },
  "papermill": {
   "default_parameters": {},
   "duration": 11.735414,
   "end_time": "2022-11-28T13:03:12.498365",
   "environment_variables": {},
   "exception": null,
   "input_path": "__notebook__.ipynb",
   "output_path": "__notebook__.ipynb",
   "parameters": {},
   "start_time": "2022-11-28T13:03:00.762951",
   "version": "2.3.4"
  }
 },
 "nbformat": 4,
 "nbformat_minor": 5
}
